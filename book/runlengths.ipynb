{
 "cells": [
  {
   "cell_type": "markdown",
   "id": "11d43822",
   "metadata": {},
   "source": [
    "# An introduction to RLEs\n",
    "\n",
    "Rles are runlengths - a datastructure that can compactly describe the coverage\n",
    "of a genome (or some other score that is associated with each nucleotide). It is\n",
    "used for efficient genomewide arithmetic operations on these scores."
   ]
  },
  {
   "cell_type": "code",
   "execution_count": null,
   "id": "c8e48a09",
   "metadata": {
    "tidy": false
   },
   "outputs": [],
   "source": [
    "from pyrle import Rle\n",
    "\n",
    "runs = [10, 10, 10, 10]\n",
    "values = [0, 1, 0, 0]\n",
    "\n",
    "r1 = Rle(runs, values)\n",
    "print(r1)\n",
    "\n",
    "runs2 = [11, 9, 20]\n",
    "values2 = [100, 0, 100]\n",
    "\n",
    "r2 = Rle(runs2, values2)\n",
    "print(r2)\n",
    "\n",
    "print(r1 + r2)\n",
    "\n",
    "print(r1 * r2)\n",
    "\n",
    "print(r1.runs)\n",
    "print(r1.values)\n",
    "\n",
    "r1 = r1 + 5\n",
    "print(r1)\n",
    "\n",
    "print(r2 / r1)"
   ]
  },
  {
   "cell_type": "markdown",
   "id": "34b93c08",
   "metadata": {},
   "source": [
    "Rles have two helper-methods, `numbers_only` and `defragment`. The former\n",
    "replaces NaN with zero and infinity with large finite numbers, while the latter\n",
    "merges consecutive runs of duplicate values in the Rle (which might occur when\n",
    "manually manipulating the values vector)."
   ]
  },
  {
   "cell_type": "code",
   "execution_count": null,
   "id": "9e92deca",
   "metadata": {
    "tidy": false
   },
   "outputs": [],
   "source": [
    "import numpy as np\n",
    "from pyrle import Rle\n",
    "runs2 = [11, 9, 20]\n",
    "values2 = [100, 0, 100]\n",
    "r2 = Rle(runs2, values2)\n",
    "r2.values = np.array([1, 1, 1], dtype=np.double)\n",
    "print(r2)\n",
    "print(r2.defragment())"
   ]
  }
 ],
 "metadata": {
  "jupytext": {
   "cell_metadata_filter": "tidy,-all",
   "main_language": "python",
   "notebook_metadata_filter": "-all"
  }
 },
 "nbformat": 4,
 "nbformat_minor": 5
}
